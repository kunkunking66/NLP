{
 "cells": [
  {
   "cell_type": "code",
   "metadata": {
    "ExecuteTime": {
     "end_time": "2024-11-19T05:21:15.879897Z",
     "start_time": "2024-11-19T05:21:15.474176Z"
    }
   },
   "source": [
    "#引入jieba模块, 默认安装pip install jieba\n",
    "import jieba\n",
    "\n",
    "# 基本使用\n",
    "word_list = jieba.cut(\"欢迎来到NLP自然语言的世界!\")\n",
    "print(type(word_list))\n",
    "print(\"【基本应用】: {}\".format(\" / \".join(word_list)))"
   ],
   "outputs": [
    {
     "name": "stderr",
     "output_type": "stream",
     "text": [
      "Building prefix dict from the default dictionary ...\n",
      "Loading model from cache C:\\Users\\五行缺钱\\AppData\\Local\\Temp\\jieba.cache\n"
     ]
    },
    {
     "name": "stdout",
     "output_type": "stream",
     "text": [
      "<class 'generator'>\n"
     ]
    },
    {
     "name": "stderr",
     "output_type": "stream",
     "text": [
      "Loading model cost 0.385 seconds.\n",
      "Prefix dict has been built successfully.\n"
     ]
    },
    {
     "name": "stdout",
     "output_type": "stream",
     "text": [
      "【基本应用】: 欢迎 / 来到 / NLP / 自然语言 / 的 / 世界 / !\n"
     ]
    }
   ],
   "execution_count": 1
  },
  {
   "cell_type": "markdown",
   "metadata": {
    "collapsed": true
   },
   "source": [
    "## 一、分词"
   ]
  },
  {
   "cell_type": "code",
   "metadata": {
    "scrolled": true,
    "ExecuteTime": {
     "end_time": "2024-11-19T05:21:21.800434Z",
     "start_time": "2024-11-19T05:21:21.794537Z"
    }
   },
   "source": [
    "# 导入包\n",
    "import jieba\n",
    "\n",
    "# 所有可能的可能\n",
    "word_list = jieba.cut('我来到湖南国防科技大学', cut_all=True)\n",
    "print(\"【全模式】: {}\".format(\" /\".join(word_list)))\n",
    "\n",
    "# 精确模式比较精确\n",
    "word_list = jieba.cut('我来到湖南国防科技大学')\n",
    "print(\"【精确模式】: {}\".format(\" /\".join(word_list)))\n",
    "\n",
    "word_list = jieba.cut_for_search('我来到湖南国防科技大学')\n",
    "print(\"【搜索引擎模式】: {}\".format(\" /\".join(word_list)))\n",
    "\n",
    "\n",
    "word_list = jieba.cut(\"我在台电大厦上班\", HMM=False)\n",
    "print(\"【仅词典模式】: {}\".format(\" /\".join(word_list)))\n",
    "\n",
    "# 自动发现潜在的词语\n",
    "word_list = jieba.cut(\"我在台电大厦上班\", HMM=True)\n",
    "print(\"【HMM新词发现模式】: {}\".format(\" /\".join(word_list)))"
   ],
   "outputs": [
    {
     "name": "stdout",
     "output_type": "stream",
     "text": [
      "【全模式】: 我 /来到 /湖南 /南国 /国防 /国防科 /国防科技 /国防科技大学 /科技 /大学\n",
      "【精确模式】: 我 /来到 /湖南 /国防科技大学\n",
      "【搜索引擎模式】: 我 /来到 /湖南 /国防 /科技 /大学 /国防科 /国防科技大学\n",
      "【仅词典模式】: 我 /在 /台 /电 /大厦 /上班\n",
      "【HMM新词发现模式】: 我 /在 /台电 /大厦 /上班\n"
     ]
    }
   ],
   "execution_count": 2
  },
  {
   "cell_type": "markdown",
   "metadata": {},
   "source": [
    "### API区别说明\n",
    "- jieba.cut：返回的是一个迭代器对象\n",
    "- jieba.lcut：返回的是一个list集合"
   ]
  },
  {
   "cell_type": "code",
   "metadata": {
    "ExecuteTime": {
     "end_time": "2024-11-19T05:21:29.452304Z",
     "start_time": "2024-11-19T05:21:29.440048Z"
    }
   },
   "source": [
    "cut_word_list = jieba.cut('我来到湖南国防科技大学')\n",
    "print(\"【cut API返回的数据类型】: {}\".format(type(cut_word_list)))\n",
    "print(\"【cut API返回结果】: {}\".format(' /'.join(cut_word_list)))\n",
    "print(\"【cut API返回结果<再次获取>】: {}\".format(' /'.join(cut_word_list)))\n",
    "\n",
    "print(\"\")\n",
    "\n",
    "lcut_word_list = jieba.lcut('我来到湖南国防科技大学')\n",
    "print(\"【lcut API返回的数据类型】: {}\".format(type(lcut_word_list)))\n",
    "print(\"【lcut API返回结果】: {}\".format(' /'.join(lcut_word_list)))\n",
    "print(\"【lcut API返回结果<再次获取>】: {}\".format(' /'.join(lcut_word_list)))\n"
   ],
   "outputs": [
    {
     "name": "stdout",
     "output_type": "stream",
     "text": [
      "【cut API返回的数据类型】: <class 'generator'>\n",
      "【cut API返回结果】: 我 /来到 /湖南 /国防科技大学\n",
      "【cut API返回结果<再次获取>】: \n",
      "\n",
      "【lcut API返回的数据类型】: <class 'list'>\n",
      "【lcut API返回结果】: 我 /来到 /湖南 /国防科技大学\n",
      "【lcut API返回结果<再次获取>】: 我 /来到 /湖南 /国防科技大学\n"
     ]
    }
   ],
   "execution_count": 3
  },
  {
   "cell_type": "markdown",
   "metadata": {},
   "source": [
    "## 二、自定义词典"
   ]
  },
  {
   "cell_type": "markdown",
   "metadata": {},
   "source": [
    "### 载入词典\n",
    "```\n",
    "jieba.load_userdict(filename): 加载给定文件filename中定义的单词\n",
    "```\n",
    "- 每一行分三部分：词语、词频（可省略）、词性（可省略），用空格隔开，顺序不可颠倒；\n",
    "- 词性详见：<a href=\"#ext1\">jieba词性说明</a>"
   ]
  },
  {
   "cell_type": "code",
   "metadata": {
    "ExecuteTime": {
     "end_time": "2024-11-19T05:21:37.365285Z",
     "start_time": "2024-11-19T05:21:37.359758Z"
    }
   },
   "source": [
    "# 仅词典匹配\n",
    "word_list = jieba.cut('外卖送餐公司中饿了么是你值得信赖的选择', HMM=False)\n",
    "print(\"【载入词典前<无HMM>】: {}\".format('/'.join(word_list)))\n",
    "\n",
    "# 对于连续单独成词的文本，使用HMM继续分词\n",
    "word_list = jieba.cut('外卖送餐公司中饿了么是你值得信赖的选择', HMM=True)\n",
    "print(\"【载入词典前<有HMM>】: {}\".format('/'.join(word_list)))"
   ],
   "outputs": [
    {
     "name": "stdout",
     "output_type": "stream",
     "text": [
      "【载入词典前<无HMM>】: 外卖/送/餐/公司/中/饿/了/么/是/你/值得/信赖/的/选择\n",
      "【载入词典前<有HMM>】: 外卖/送餐/公司/中饿/了/么/是/你/值得/信赖/的/选择\n"
     ]
    }
   ],
   "execution_count": 4
  },
  {
   "cell_type": "code",
   "metadata": {
    "ExecuteTime": {
     "end_time": "2024-11-19T05:21:42.925752Z",
     "start_time": "2024-11-19T05:21:42.919895Z"
    }
   },
   "source": [
    "# 加载词典\n",
    "jieba.load_userdict('./datas/word_dict.txt')"
   ],
   "outputs": [],
   "execution_count": 5
  },
  {
   "cell_type": "code",
   "metadata": {
    "ExecuteTime": {
     "end_time": "2024-11-19T05:21:44.602069Z",
     "start_time": "2024-11-19T05:21:44.598970Z"
    }
   },
   "source": [
    "# with语句打开文件，这样可以确保文件在操作完成后自动关闭\n",
    "# as reader是with语句中的一部分，用于打开文件并给文件对象起一个别名。这里的reader就是一个别名，代表文件对象\n",
    "# 'r'表示以只读模式打开文件\n",
    "with open('./datas/word_dict.txt', 'r', encoding='utf-8') as reader:\n",
    "    for line in reader:\n",
    "        print(line.strip())"
   ],
   "outputs": [
    {
     "name": "stdout",
     "output_type": "stream",
     "text": [
      "﻿#自定义词典：一词占一行，每行分三个部分：词语，词频（可忽略），词性（可忽略）\n",
      "饿了么 2 nt\n",
      "徐良才 2 nr\n",
      "驻军官兵 2\n"
     ]
    }
   ],
   "execution_count": 6
  },
  {
   "cell_type": "code",
   "execution_count": 7,
   "metadata": {},
   "outputs": [
    {
     "name": "stdout",
     "output_type": "stream",
     "text": [
      "【载入词典后<无HMM>】: 外卖/送/餐/公司/中/饿了么/是/你/值得/信赖/的/选择\n",
      "【载入词典后<有HMM>】: 外卖/送餐/公司/中/饿了么/是/你/值得/信赖/的/选择\n"
     ]
    }
   ],
   "source": [
    "word_list = jieba.cut('外卖送餐公司中饿了么是你值得信赖的选择', HMM=False)\n",
    "print(\"【载入词典后<无HMM>】: {}\".format('/'.join(word_list)))\n",
    "\n",
    "word_list = jieba.cut('外卖送餐公司中饿了么是你值得信赖的选择', HMM=True)\n",
    "print(\"【载入词典后<有HMM>】: {}\".format('/'.join(word_list)))"
   ]
  },
  {
   "cell_type": "markdown",
   "metadata": {
    "collapsed": true
   },
   "source": [
    "### 动态调整词典\n",
    "- 使用```add_word(word, freq=None, tag=None)```和```del_word(word)```可以在程序中动态修改词典\n",
    "- 使用```suggest_freq(segment, tune=True)```可以调节单个词语的词频，使其能或者不能被分出来"
   ]
  },
  {
   "cell_type": "code",
   "metadata": {
    "ExecuteTime": {
     "end_time": "2024-11-19T05:25:39.417695Z",
     "start_time": "2024-11-19T05:25:39.410336Z"
    }
   },
   "source": [
    "import jieba\n",
    "word_list = jieba.cut('如果放到post中将出错。', HMM=False)\n",
    "print(\"【不启动HMM+不添加分词】: {}\".format('/'.join(word_list)))"
   ],
   "outputs": [
    {
     "name": "stdout",
     "output_type": "stream",
     "text": [
      "【不启动HMM+不添加分词】: 如果/放到/post/中将/出错/。\n"
     ]
    }
   ],
   "execution_count": 7
  },
  {
   "cell_type": "code",
   "metadata": {
    "ExecuteTime": {
     "end_time": "2024-11-19T05:25:47.703887Z",
     "start_time": "2024-11-19T05:25:47.697216Z"
    }
   },
   "source": "jieba.suggest_freq('中', tune=True)  # tune是一个布尔值 选定是否使它以一个特定值筛选出来",
   "outputs": [
    {
     "data": {
      "text/plain": [
       "243191"
      ]
     },
     "execution_count": 8,
     "metadata": {},
     "output_type": "execute_result"
    }
   ],
   "execution_count": 8
  },
  {
   "cell_type": "code",
   "execution_count": 12,
   "metadata": {},
   "outputs": [
    {
     "name": "stdout",
     "output_type": "stream",
     "text": [
      "【不启动HMM+不添加分词】: 如果/放到/post/中将/出错/。\n"
     ]
    }
   ],
   "source": [
    "word_list = jieba.cut('如果放到post中将出错。', HMM=False)\n",
    "print(\"【不启动HMM+不添加分词】: {}\".format('/'.join(word_list)))"
   ]
  },
  {
   "cell_type": "code",
   "metadata": {
    "ExecuteTime": {
     "end_time": "2024-11-19T05:28:56.948626Z",
     "start_time": "2024-11-19T05:28:56.941862Z"
    }
   },
   "source": [
    "jieba.suggest_freq(('中', '将'), tune=True)"
   ],
   "outputs": [
    {
     "data": {
      "text/plain": [
       "492"
      ]
     },
     "execution_count": 9,
     "metadata": {},
     "output_type": "execute_result"
    }
   ],
   "execution_count": 9
  },
  {
   "cell_type": "code",
   "metadata": {
    "ExecuteTime": {
     "end_time": "2024-11-19T05:28:59.305170Z",
     "start_time": "2024-11-19T05:28:59.300936Z"
    }
   },
   "source": [
    "jieba.suggest_freq(('中', '将'), tune=False)"
   ],
   "outputs": [
    {
     "data": {
      "text/plain": [
       "492"
      ]
     },
     "execution_count": 10,
     "metadata": {},
     "output_type": "execute_result"
    }
   ],
   "execution_count": 10
  },
  {
   "cell_type": "code",
   "metadata": {
    "ExecuteTime": {
     "end_time": "2024-11-19T05:29:03.697608Z",
     "start_time": "2024-11-19T05:29:03.690035Z"
    }
   },
   "source": [
    "word_list = jieba.cut('如果放到post中将出错。', HMM=False)\n",
    "print(\"【不启动HMM+添加分词】: {}\".format('/'.join(word_list)))"
   ],
   "outputs": [
    {
     "name": "stdout",
     "output_type": "stream",
     "text": [
      "【不启动HMM+添加分词】: 如果/放到/post/中/将/出错/。\n"
     ]
    }
   ],
   "execution_count": 11
  },
  {
   "cell_type": "markdown",
   "metadata": {},
   "source": [
    "## 三、关键词抽取"
   ]
  },
  {
   "cell_type": "code",
   "metadata": {
    "ExecuteTime": {
     "end_time": "2024-11-19T05:29:32.901527Z",
     "start_time": "2024-11-19T05:29:32.557137Z"
    }
   },
   "source": [
    "import jieba.analyse"
   ],
   "outputs": [],
   "execution_count": 12
  },
  {
   "cell_type": "code",
   "metadata": {
    "ExecuteTime": {
     "end_time": "2024-11-19T05:29:35.563219Z",
     "start_time": "2024-11-19T05:29:35.558024Z"
    }
   },
   "source": [
    "# https://mbd.baidu.com/newspage/data/landingsuper?context=%7B%22nid%22%3A%22news_10141364001547692745%22%7D&n_type=0&p_from=1\n",
    "sentence = \"\"\"\n",
    "新华社澳门8月1日电（方钊、郭鑫）1日上午，解放军驻澳门部队在新口岸军营隆重举行升国旗仪式和“八一”招待会，庆祝中国人民解放军建军92周年。\n",
    "8时，驻澳部队威武的仪仗队护送国旗，步伐铿锵走向升旗台。军乐队奏响雄壮的《中华人民共和国国歌》，驻澳门部队官兵在司令员徐良才和政委孙文举带领下整齐列队，面向国旗庄严敬礼，目送鲜艳的五星红旗冉冉升起，献上深情祝福。\n",
    "“八一”招待会于11时举行，主礼嘉宾与各界来宾一同观看了纪录片《濠江战旗别样红》，全面了解驻军进澳门20年来履行防务情况。驻澳门部队司令员徐良才和澳门特区行政长官崔世安致辞。\n",
    "徐良才深情回顾了中国人民解放军的光辉历程。他表示，今年是中国人民解放军进驻澳门20周年，驻军自进驻之日起，就坚定不移地贯彻“一国两制”伟大方针，坚定不移地遵守澳门基本法和驻军法，坚定不移地维护澳门繁荣稳定，始终视国家和民族利益高于一切，始终遵守澳门现行社会制度，尊重和支持特区政府依法施政，积极参加社会公益事业，把澳门同胞当亲人。\n",
    "徐良才说，近年来，驻军官兵时刻牢记习主席重要嘱托，深入贯彻习近平强军思想，坚持政治建军、服务大局，坚持任务牵引、练兵备战，坚持依法从严、锤炼作风，部队履行防务能力稳步提升。驻军部队的建设发展，离不开特区各界和澳门同胞的关心，离不开中联办、外交公署等中央驻澳机构的支持，特别是特区政府为驻军有效履行防务创造了良好环境和条件，对此致以衷心的感谢和崇高的敬意。\n",
    "崔世安向驻澳门部队官兵致以节日的祝贺，对驻军一直以来对特区发展的有力支持表示感谢。他表示，20年来，驻澳部队与澳门特区同呼吸、共命运，视驻地为故乡，把居民当亲人，支持特区政府依法施政，积极开展多元化的、丰富多彩的爱民活动，主动参与献血、植树等社会公益活动；与特区政府合办“澳门青年学生军事夏令营”，培养青年“爱国爱澳”的核心价值；在防灾救灾工作上，以高度的责任感，大力支持特区政府。事实证明，驻澳部队是维护“一国两制”的重要力量，是维护澳门繁荣稳定的重要基石，为澳门特区各项事业的进步作出了不懈的努力和巨大的贡献。\n",
    "全国政协副主席何厚铧、中央政府驻澳门联络办公室主任傅自应、外交部驻澳门特派员公署特派员沈蓓莉、驻澳部队政委孙文举、澳门特区立法会主席高开贤等，以及澳门特区政府、中央驻澳机构、澳区全国人大代表、政协委员、社团、高校、往届军事夏令营学生代表等300余人出席了招待会。\n",
    "\"\"\""
   ],
   "outputs": [],
   "execution_count": 13
  },
  {
   "cell_type": "markdown",
   "metadata": {},
   "source": [
    "### 基于TF-IDF算法抽取关键词\n",
    "- ```jieba.analyse.extract_tags(sentence, topK=20, withWeight=False, allowPOS=())```\n",
    "    - 功能：关键词提取\n",
    "    - 参数说明：\n",
    "        - sentence：待提取的文本\n",
    "        - topK：返回多少个TF/IDF权重最大的关键词，默认为20个\n",
    "        - withWeight：是否返回关键词的权重值，默认为False，表示不返回\n",
    "        - allowPOS: 仅提取指定词性的词，默认为空，表示不筛选\n",
    "- ```jieba.analyse.set_idf_path(file_name)```\n",
    "    - 功能：自定义单词逆文件频率的值\n",
    "    - 参数说明：\n",
    "        - file_name: 本地磁盘文件路径，文件内容为各个单词的逆向文件频率，每行一个单词，两部分构成，第一部分为单词，第二部分为逆向文件频率，中间用空格隔开\n",
    "    - 参考：[idf.txt.big](https://github.com/fxsjy/jieba/blob/master/extra_dict/idf.txt.big)\n",
    "- ```jieba.analyse.set_stop_words(file_name)```\n",
    "    - 功能：自定义停止词\n",
    "    - 参数说明：\n",
    "        - file_name: 本地磁盘文件路径, 每行一个停止词\n",
    "    - 参考：[stop_words.txt](https://github.com/fxsjy/jieba/blob/master/extra_dict/stop_words.txt)"
   ]
  },
  {
   "cell_type": "code",
   "execution_count": 3,
   "metadata": {},
   "outputs": [
    {
     "name": "stderr",
     "output_type": "stream",
     "text": [
      "Building prefix dict from the default dictionary ...\n",
      "Loading model from cache /var/folders/9s/6rct71j56zx26pp1240rm_pw0000gn/T/jieba.cache\n",
      "Loading model cost 0.245 seconds.\n",
      "Prefix dict has been built successfully.\n"
     ]
    },
    {
     "data": {
      "text/plain": [
       "['澳门', '驻澳', '驻军', '驻澳门部队', '良才', '特区政府', '澳门特区', '20', '部队', '招待会']"
      ]
     },
     "execution_count": 3,
     "metadata": {},
     "output_type": "execute_result"
    }
   ],
   "source": [
    "jieba.analyse.extract_tags(sentence,topK=10)"
   ]
  },
  {
   "cell_type": "code",
   "execution_count": 4,
   "metadata": {},
   "outputs": [
    {
     "data": {
      "text/plain": [
       "[('澳门', 0.2822399021444817),\n",
       " ('驻澳', 0.21868477139451217),\n",
       " ('驻军', 0.17633006365390247),\n",
       " ('驻澳门部队', 0.16952045917073172),\n",
       " ('良才', 0.16952045917073172),\n",
       " ('特区政府', 0.16345463142682926),\n",
       " ('澳门特区', 0.14578984759634145),\n",
       " ('20', 0.10934238569725609),\n",
       " ('部队', 0.10346009004987805),\n",
       " ('招待会', 0.09212228282469513)]"
      ]
     },
     "execution_count": 4,
     "metadata": {},
     "output_type": "execute_result"
    }
   ],
   "source": [
    "jieba.analyse.extract_tags(sentence,topK=10,withWeight=True)"
   ]
  },
  {
   "cell_type": "code",
   "metadata": {
    "ExecuteTime": {
     "end_time": "2024-11-19T05:33:57.608141Z",
     "start_time": "2024-11-19T05:33:57.587141Z"
    }
   },
   "source": [
    "jieba.analyse.extract_tags(sentence,topK=10,withWeight=True, \n",
    "                           allowPOS=('n', 'ns','vn', 'a'))\n",
    "# ns地名 vn动名词"
   ],
   "outputs": [
    {
     "data": {
      "text/plain": [
       "[('澳门', 0.5714486907616666),\n",
       " ('驻军', 0.30601196232000005),\n",
       " ('澳门特区', 0.2951794445160494),\n",
       " ('部队', 0.20947475022444442),\n",
       " ('招待会', 0.1865191899166667),\n",
       " ('防务', 0.1522948861057407),\n",
       " ('文举', 0.14200965900246912),\n",
       " ('依法', 0.13147027069444445),\n",
       " ('公署', 0.11798607691506173),\n",
       " ('建军', 0.11488342965234567)]"
      ]
     },
     "execution_count": 14,
     "metadata": {},
     "output_type": "execute_result"
    }
   ],
   "execution_count": 14
  },
  {
   "cell_type": "code",
   "metadata": {
    "ExecuteTime": {
     "end_time": "2024-11-19T05:34:03.269383Z",
     "start_time": "2024-11-19T05:34:03.161332Z"
    }
   },
   "source": [
    "# 设置自定义IDF文件\n",
    "jieba.analyse.set_idf_path('./datas/idf.txt.big')\n",
    "# 设置自定义停止词\n",
    "jieba.analyse.set_stop_words('./datas/stop_words.txt')\n",
    "# 再进行关键词提取\n",
    "jieba.analyse.extract_tags(sentence,topK=10,withWeight=True, \n",
    "                           allowPOS=('n', 'ns','vn', 'a'))"
   ],
   "outputs": [
    {
     "data": {
      "text/plain": [
       "[('澳门', 0.5714486907616666),\n",
       " ('部队', 0.4427691667740741),\n",
       " ('驻军', 0.30601196232000005),\n",
       " ('澳门特区', 0.2951794445160494),\n",
       " ('防务', 0.22138458338703704),\n",
       " ('依法', 0.22138458338703704),\n",
       " ('主席', 0.22138458338703704),\n",
       " ('招待会', 0.1865191899166667),\n",
       " ('政委', 0.1475897222580247),\n",
       " ('文举', 0.1475897222580247)]"
      ]
     },
     "execution_count": 15,
     "metadata": {},
     "output_type": "execute_result"
    }
   ],
   "execution_count": 15
  },
  {
   "cell_type": "markdown",
   "metadata": {},
   "source": [
    "### 基于TextRank算法的关键词抽取\n",
    "- ```jieba.analyse.textrank(sentence, topK=20, withWeight=False, allowPOS=('ns', 'n', 'vn', 'v'), withFlag=False) ```\n",
    "    - 功能：关键词提取\n",
    "    - 参数说明：\n",
    "        - sentence：待提取的文本\n",
    "        - topK：返回多少个TF/IDF权重最大的关键词，默认为20个\n",
    "        - withWeight：是否返回关键词的权重值，默认为False，表示不返回\n",
    "        - allowPOS: 仅提取制定词性的词，默认不为空，表示进行筛选\n",
    "        - withFlag：是否返回单词的词性值，默认为False，表示不返回(仅返回单词)\n",
    "- NOTE: 参考[TextRank: Bringing Order into Texts](http://web.eecs.umich.edu/~mihalcea/papers/mihalcea.emnlp04.pdf)论文"
   ]
  },
  {
   "cell_type": "code",
   "metadata": {
    "ExecuteTime": {
     "end_time": "2024-11-19T05:38:11.885370Z",
     "start_time": "2024-11-19T05:38:11.870870Z"
    }
   },
   "source": [
    "jieba.analyse.textrank(sentence=sentence, topK=10)"
   ],
   "outputs": [
    {
     "data": {
      "text/plain": [
       "['澳门', '驻军', '部队', '澳门特区', '坚持', '支持', '防务', '履行', '国旗', '依法']"
      ]
     },
     "execution_count": 16,
     "metadata": {},
     "output_type": "execute_result"
    }
   ],
   "execution_count": 16
  },
  {
   "cell_type": "code",
   "metadata": {
    "scrolled": true,
    "ExecuteTime": {
     "end_time": "2024-11-19T05:38:13.858539Z",
     "start_time": "2024-11-19T05:38:13.843833Z"
    }
   },
   "source": [
    "jieba.analyse.textrank(sentence=sentence, topK=10, withWeight=True, \n",
    "                       allowPOS=('n', 'ns','vn', 'v', 'a'), withFlag=True)"
   ],
   "outputs": [
    {
     "data": {
      "text/plain": [
       "[(pair('澳门', 'ns'), 1.0),\n",
       " (pair('驻军', 'n'), 0.5150728335629853),\n",
       " (pair('部队', 'n'), 0.41732897719914397),\n",
       " (pair('澳门特区', 'ns'), 0.3970962141957338),\n",
       " (pair('重要', 'a'), 0.37778159391924593),\n",
       " (pair('支持', 'v'), 0.3662188216433373),\n",
       " (pair('坚持', 'v'), 0.3621765539284169),\n",
       " (pair('防务', 'vn'), 0.3544464068364389),\n",
       " (pair('履行', 'v'), 0.34640762164150035),\n",
       " (pair('依法', 'n'), 0.3208985874730372)]"
      ]
     },
     "execution_count": 17,
     "metadata": {},
     "output_type": "execute_result"
    }
   ],
   "execution_count": 17
  },
  {
   "cell_type": "code",
   "execution_count": 9,
   "metadata": {},
   "outputs": [
    {
     "data": {
      "text/plain": [
       "[(pair('官兵', 'n'), 1.0),\n",
       " (pair('良才', 'n'), 0.9838707822898072),\n",
       " (pair('驻军', 'n'), 0.9497343581869772),\n",
       " (pair('部队', 'n'), 0.7684989902024103),\n",
       " (pair('主席', 'n'), 0.7270383708839766)]"
      ]
     },
     "execution_count": 9,
     "metadata": {},
     "output_type": "execute_result"
    }
   ],
   "source": [
    "jieba.analyse.textrank(sentence=sentence, topK=5, withWeight=True, \n",
    "                       allowPOS=('n','nr'), withFlag=True)"
   ]
  },
  {
   "cell_type": "markdown",
   "metadata": {},
   "source": [
    "## 四、词性标注\n",
    "- jieba中的分词词性说明详见: <a href=\"#ext1\">jieba词性列表</a>"
   ]
  },
  {
   "cell_type": "code",
   "execution_count": 10,
   "metadata": {},
   "outputs": [
    {
     "name": "stdout",
     "output_type": "stream",
     "text": [
      "    【单词】\t    【词性】\n",
      "      姚明\t      nr\n",
      "       的\t      uj\n",
      "      职业\t       n\n",
      "       是\t       v\n",
      "      什么\t       r\n"
     ]
    }
   ],
   "source": [
    "import jieba.posseg as pseg\n",
    "# sentence = \"我觉得人工智能未来的发展非常不错\"\n",
    "# sentence = \"姚明的身高\"\n",
    "sentence = \"姚明的职业是什么\"\n",
    "# sentence = \"成龙的身高是多少\"\n",
    "# 分词+词性标注\n",
    "words = pseg.cut(sentence)\n",
    "\n",
    "# 输出\n",
    "# 打印表头，使用 %8s 格式化字符串，确保输出的单词和词性各占8个字符的宽度，便于对齐\n",
    "print(\"%8s\\t%8s\" % (\"【单词】\", \"【词性】\"))\n",
    "# 使用 for 循环遍历 words 生成器，每次循环取出一个元组 (word, flag)\n",
    "for word, flag in words:\n",
    "    print(\"%8s\\t%8s\" % (word, flag))"
   ]
  },
  {
   "cell_type": "code",
   "metadata": {
    "ExecuteTime": {
     "end_time": "2024-11-19T05:40:08.328732Z",
     "start_time": "2024-11-19T05:40:08.317139Z"
    }
   },
   "source": [
    "import jieba.posseg as pseg\n",
    "sentence = \"徐良才说，近年来，驻军官兵时刻牢记习主席重要嘱托。\"\n",
    "# 分词+词性标注\n",
    "words = pseg.cut(sentence)\n",
    "\n",
    "# 输出\n",
    "print(\"%8s\\t%8s\" % (\"【单词】\", \"【词性】\"))\n",
    "for word, flag in words:\n",
    "    print(\"%8s\\t%8s\" % (word, flag))"
   ],
   "outputs": [
    {
     "name": "stdout",
     "output_type": "stream",
     "text": [
      "    【单词】\t    【词性】\n",
      "     徐良才\t      nr\n",
      "       说\t       v\n",
      "       ，\t       x\n",
      "     近年来\t       t\n",
      "       ，\t       x\n",
      "    驻军官兵\t       x\n",
      "      时刻\t       n\n",
      "      牢记\t       n\n",
      "       习\t       v\n",
      "      主席\t       n\n",
      "      重要\t       a\n",
      "      嘱托\t       v\n",
      "       。\t       x\n"
     ]
    }
   ],
   "execution_count": 18
  },
  {
   "cell_type": "code",
   "execution_count": 12,
   "metadata": {
    "scrolled": false
   },
   "outputs": [
    {
     "name": "stdout",
     "output_type": "stream",
     "text": [
      "    【单词】\t    【词性】\n",
      "       徐\t      nr\n",
      "      良才\t       n\n",
      "       说\t       v\n",
      "       ，\t       x\n",
      "     近年来\t       t\n",
      "       ，\t       x\n",
      "      驻军\t       n\n",
      "      官兵\t       n\n",
      "      时刻\t       n\n",
      "      牢记\t       n\n",
      "     习主席\t      nr\n",
      "      重要\t       a\n",
      "      嘱托\t       v\n",
      "       。\t       x\n"
     ]
    }
   ],
   "source": [
    "import jieba.posseg as pseg\n",
    "sentence = \"徐良才说，近年来，驻军官兵时刻牢记习主席重要嘱托。\"\n",
    "\n",
    "# 添加词典\n",
    "jieba.add_word('习主席', 2, 'nr')\n",
    "\n",
    "# 分词+词性标注\n",
    "words = pseg.cut(sentence)\n",
    "\n",
    "# 输出\n",
    "print(\"%8s\\t%8s\" % (\"【单词】\", \"【词性】\"))\n",
    "for word, flag in words:\n",
    "    print(\"%8s\\t%8s\" % (word, flag))"
   ]
  },
  {
   "cell_type": "markdown",
   "metadata": {},
   "source": [
    "## 五、并行分词\n",
    "- 原理：将目标文本按行分割后，把各行文本分配到多个Python进程中进行并行分词，然后归并结果。速度比单线程的快3~5倍。\n",
    "- 基于Python自带的multiprocessing模块，暂时不支持windows\n",
    "- 基本用法：\n",
    "    - jieba.enable_parallel(4)\n",
    "        - 开启并行分词模式，参数为并行进程数，可选\n",
    "    - jieba.disable_parallel()\n",
    "        - 关闭并行分词模式\n",
    "- NOTE: **当同时使用并行分词和自定义词典的时候，要求将自定义词典放到并行分词之前做。**"
   ]
  },
  {
   "cell_type": "code",
   "execution_count": 13,
   "metadata": {},
   "outputs": [
    {
     "name": "stdout",
     "output_type": "stream",
     "text": [
      "我 / 是 / 小 / 明 / \n",
      " / 我 / 是 / 小 / 明\n"
     ]
    }
   ],
   "source": [
    "import jieba\n",
    "\n",
    "# NotImplementedError: jieba: parallel mode only supports posix system\n",
    "# jieba.enable_parallel()\n",
    "\n",
    "content = '我是小明\\n我是小明'\n",
    "words = jieba.cut(content)\n",
    "print(' / '.join(content))"
   ]
  },
  {
   "cell_type": "markdown",
   "metadata": {},
   "source": [
    "### 扩展一：<a name='ext1'>jieba词性说明</a>\n",
    "详见: <a href='https://www.cnblogs.com/chenbjin/p/4341930.html'>ICTCLAS汉语词性标注集</a>"
   ]
  },
  {
   "cell_type": "markdown",
   "metadata": {},
   "source": [
    "|词性符号|词性名称|描述说明|\n",
    "|:-|:-|:-|\n",
    "|n|名词||\n",
    "|nr|人名||\n",
    "|ns|地名||\n",
    "|nt|机构团体名||\n",
    "|nz|其它专名||\n",
    "|t|时间词||\n",
    "|s|处方词||\n",
    "|f|方位词||\n",
    "|v|动词||\n",
    "|vd|副动词|直接做状语的动词，动词和副词放到一起|\n",
    "|vn|名动词|具有名词功能的动词，动词和名词放到一起|\n",
    "|a|形容词||\n",
    "|ad|副形词|直接作状语的形容词。形容词和副词放到一起。|\n",
    "|an|名形词|具有名词功能的形容词。形容词和名词放到一起|\n",
    "|b|区别词||\n",
    "|z|状态词||\n",
    "|r|代词||\n",
    "|rr|人称代词||\n",
    "|rz|指示代词||\n",
    "|ry|疑问代词||\n",
    "|m|数词||\n",
    "|q|量词||\n",
    "|d|副词||\n",
    "|p|介词||\n",
    "|c|连词||\n",
    "|u|助词||\n",
    "|e|叹词||\n",
    "|eng|英语||\n",
    "|y|语气词||\n",
    "|o|拟声词||\n",
    "|h|前缀||\n",
    "|k|后缀||\n",
    "|i|成语||\n",
    "|l|习用语|临时的词语|\n",
    "|q|量词||\n",
    "|w|标点符号||\n",
    "|x|字符串|符号、未知词性等描述|"
   ]
  }
 ],
 "metadata": {
  "kernelspec": {
   "display_name": "Python 3 (ipykernel)",
   "language": "python",
   "name": "python3"
  },
  "language_info": {
   "codemirror_mode": {
    "name": "ipython",
    "version": 3
   },
   "file_extension": ".py",
   "mimetype": "text/x-python",
   "name": "python",
   "nbconvert_exporter": "python",
   "pygments_lexer": "ipython3",
   "version": "3.10.14"
  }
 },
 "nbformat": 4,
 "nbformat_minor": 2
}
