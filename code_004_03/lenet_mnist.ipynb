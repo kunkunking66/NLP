{
 "cells": [
  {
   "cell_type": "code",
   "metadata": {
    "ExecuteTime": {
     "end_time": "2024-11-04T01:47:00.483792Z",
     "start_time": "2024-11-04T01:46:51.887112Z"
    }
   },
   "source": [
    "import torch\n",
    "import torch.nn as nn\n",
    "import torch.optim as optim\n",
    "from torch.utils.data import DataLoader\n",
    "from torchvision import datasets, transforms\n"
   ],
   "outputs": [],
   "execution_count": 1
  },
  {
   "cell_type": "markdown",
   "metadata": {},
   "source": [
    "# LeNet"
   ]
  },
  {
   "cell_type": "code",
   "metadata": {
    "ExecuteTime": {
     "end_time": "2024-11-04T01:47:00.497098Z",
     "start_time": "2024-11-04T01:47:00.491909Z"
    }
   },
   "source": [
    "# 定义 LeNet 模型\n",
    "class LeNet(nn.Module):\n",
    "    def __init__(self):\n",
    "        super(LeNet, self).__init__()\n",
    "        # 定义卷积层\n",
    "        self.features = nn.Sequential(\n",
    "            # Conv1\n",
    "            nn.Conv2d(1, 20, kernel_size=5),\n",
    "            nn.ReLU(),\n",
    "            # Pool1\n",
    "            nn.MaxPool2d(kernel_size=2, stride=2),\n",
    "            \n",
    "            # Conv2\n",
    "            nn.Conv2d(20, 50, kernel_size=5),\n",
    "            nn.ReLU(),\n",
    "            # AdaptiveMaxPool2d\n",
    "            nn.AdaptiveMaxPool2d(output_size=(4, 4)),\n",
    "        )\n",
    "        \n",
    "        # 定义全连接层\n",
    "        self.classify = nn.Sequential(\n",
    "            # FC1\n",
    "            nn.Linear(50 * 4 * 4, 500),\n",
    "            nn.ReLU(),\n",
    "            # FC2\n",
    "            nn.Linear(500, 10),\n",
    "        )\n",
    "\n",
    "    def forward(self, x):\n",
    "        # 通过卷积层\n",
    "        x = self.features(x)\n",
    "        # 展平为一维向量\n",
    "        x = torch.flatten(x, 1)\n",
    "        # 通过全连接层\n",
    "        x = self.classify(x)\n",
    "        return x\n"
   ],
   "outputs": [],
   "execution_count": 2
  },
  {
   "cell_type": "markdown",
   "metadata": {},
   "source": [
    "# 设定超参数"
   ]
  },
  {
   "cell_type": "code",
   "metadata": {
    "ExecuteTime": {
     "end_time": "2024-11-04T01:47:00.504285Z",
     "start_time": "2024-11-04T01:47:00.500907Z"
    }
   },
   "source": [
    "# 设定超参数\n",
    "batch_size = 64\n",
    "learning_rate = 0.01\n",
    "num_epochs = 3"
   ],
   "outputs": [],
   "execution_count": 3
  },
  {
   "cell_type": "markdown",
   "metadata": {},
   "source": [
    "# 加载 MNIST 数据集"
   ]
  },
  {
   "cell_type": "code",
   "metadata": {
    "ExecuteTime": {
     "end_time": "2024-11-04T01:47:25.177621Z",
     "start_time": "2024-11-04T01:47:00.506900Z"
    }
   },
   "source": [
    "# 加载 MNIST 数据集\n",
    "transform = transforms.Compose([\n",
    "    transforms.ToTensor(),\n",
    "    transforms.Normalize((0.1307,), (0.3081,))\n",
    "])\n",
    "\n",
    "train_dataset = datasets.MNIST(root='./datas', train=True, transform=transform, download=True)\n",
    "test_dataset = datasets.MNIST(root='./datas', train=False, transform=transform)\n",
    "\n",
    "train_loader = DataLoader(dataset=train_dataset, batch_size=batch_size, shuffle=True)\n",
    "test_loader = DataLoader(dataset=test_dataset, batch_size=batch_size, shuffle=False)"
   ],
   "outputs": [
    {
     "name": "stdout",
     "output_type": "stream",
     "text": [
      "Downloading http://yann.lecun.com/exdb/mnist/train-images-idx3-ubyte.gz\n",
      "Failed to download (trying next):\n",
      "<urlopen error [SSL: CERTIFICATE_VERIFY_FAILED] certificate verify failed: certificate has expired (_ssl.c:1006)>\n",
      "\n",
      "Downloading https://ossci-datasets.s3.amazonaws.com/mnist/train-images-idx3-ubyte.gz\n",
      "Downloading https://ossci-datasets.s3.amazonaws.com/mnist/train-images-idx3-ubyte.gz to ./datas\\MNIST\\raw\\train-images-idx3-ubyte.gz\n"
     ]
    },
    {
     "name": "stderr",
     "output_type": "stream",
     "text": [
      "100%|██████████| 9912422/9912422 [00:08<00:00, 1232040.12it/s]\n"
     ]
    },
    {
     "name": "stdout",
     "output_type": "stream",
     "text": [
      "Extracting ./datas\\MNIST\\raw\\train-images-idx3-ubyte.gz to ./datas\\MNIST\\raw\n",
      "\n",
      "Downloading http://yann.lecun.com/exdb/mnist/train-labels-idx1-ubyte.gz\n",
      "Failed to download (trying next):\n",
      "<urlopen error [SSL: CERTIFICATE_VERIFY_FAILED] certificate verify failed: certificate has expired (_ssl.c:1006)>\n",
      "\n",
      "Downloading https://ossci-datasets.s3.amazonaws.com/mnist/train-labels-idx1-ubyte.gz\n",
      "Downloading https://ossci-datasets.s3.amazonaws.com/mnist/train-labels-idx1-ubyte.gz to ./datas\\MNIST\\raw\\train-labels-idx1-ubyte.gz\n"
     ]
    },
    {
     "name": "stderr",
     "output_type": "stream",
     "text": [
      "100%|██████████| 28881/28881 [00:00<00:00, 86406.50it/s]\n"
     ]
    },
    {
     "name": "stdout",
     "output_type": "stream",
     "text": [
      "Extracting ./datas\\MNIST\\raw\\train-labels-idx1-ubyte.gz to ./datas\\MNIST\\raw\n",
      "\n",
      "Downloading http://yann.lecun.com/exdb/mnist/t10k-images-idx3-ubyte.gz\n",
      "Failed to download (trying next):\n",
      "<urlopen error [SSL: CERTIFICATE_VERIFY_FAILED] certificate verify failed: certificate has expired (_ssl.c:1006)>\n",
      "\n",
      "Downloading https://ossci-datasets.s3.amazonaws.com/mnist/t10k-images-idx3-ubyte.gz\n",
      "Downloading https://ossci-datasets.s3.amazonaws.com/mnist/t10k-images-idx3-ubyte.gz to ./datas\\MNIST\\raw\\t10k-images-idx3-ubyte.gz\n"
     ]
    },
    {
     "name": "stderr",
     "output_type": "stream",
     "text": [
      "100%|██████████| 1648877/1648877 [00:03<00:00, 546000.46it/s]\n"
     ]
    },
    {
     "name": "stdout",
     "output_type": "stream",
     "text": [
      "Extracting ./datas\\MNIST\\raw\\t10k-images-idx3-ubyte.gz to ./datas\\MNIST\\raw\n",
      "\n",
      "Downloading http://yann.lecun.com/exdb/mnist/t10k-labels-idx1-ubyte.gz\n",
      "Failed to download (trying next):\n",
      "<urlopen error [SSL: CERTIFICATE_VERIFY_FAILED] certificate verify failed: certificate has expired (_ssl.c:1006)>\n",
      "\n",
      "Downloading https://ossci-datasets.s3.amazonaws.com/mnist/t10k-labels-idx1-ubyte.gz\n",
      "Downloading https://ossci-datasets.s3.amazonaws.com/mnist/t10k-labels-idx1-ubyte.gz to ./datas\\MNIST\\raw\\t10k-labels-idx1-ubyte.gz\n"
     ]
    },
    {
     "name": "stderr",
     "output_type": "stream",
     "text": [
      "100%|██████████| 4542/4542 [00:00<?, ?it/s]"
     ]
    },
    {
     "name": "stdout",
     "output_type": "stream",
     "text": [
      "Extracting ./datas\\MNIST\\raw\\t10k-labels-idx1-ubyte.gz to ./datas\\MNIST\\raw\n",
      "\n"
     ]
    },
    {
     "name": "stderr",
     "output_type": "stream",
     "text": [
      "\n"
     ]
    }
   ],
   "execution_count": 4
  },
  {
   "cell_type": "markdown",
   "metadata": {},
   "source": [
    "# 创建模型实例"
   ]
  },
  {
   "cell_type": "code",
   "metadata": {
    "ExecuteTime": {
     "end_time": "2024-11-04T01:47:25.429710Z",
     "start_time": "2024-11-04T01:47:25.417748Z"
    }
   },
   "source": [
    "# 创建模型实例\n",
    "device = torch.device(\"cuda:0\" if torch.cuda.is_available() else \"cpu\")\n",
    "lenet = LeNet().to(device)"
   ],
   "outputs": [],
   "execution_count": 5
  },
  {
   "cell_type": "markdown",
   "metadata": {},
   "source": [
    "# 定义损失函数和优化器"
   ]
  },
  {
   "cell_type": "code",
   "metadata": {
    "ExecuteTime": {
     "end_time": "2024-11-04T01:47:25.492945Z",
     "start_time": "2024-11-04T01:47:25.490437Z"
    }
   },
   "source": [
    "# 定义损失函数和优化器\n",
    "criterion = nn.CrossEntropyLoss()\n",
    "optimizer = optim.SGD(lenet.parameters(), lr=learning_rate)"
   ],
   "outputs": [],
   "execution_count": 6
  },
  {
   "cell_type": "markdown",
   "metadata": {},
   "source": [
    "# 训练模型"
   ]
  },
  {
   "cell_type": "code",
   "metadata": {
    "ExecuteTime": {
     "end_time": "2024-11-04T01:48:00.754094Z",
     "start_time": "2024-11-04T01:47:25.506991Z"
    }
   },
   "source": [
    "# 训练模型\n",
    "for epoch in range(num_epochs):\n",
    "    lenet.train()\n",
    "    for i, (images, labels) in enumerate(train_loader):\n",
    "        images, labels = images.to(device), labels.to(device)\n",
    "        # 前向传播\n",
    "        outputs = lenet(images)\n",
    "        loss = criterion(outputs, labels)\n",
    "        \n",
    "        # 反向传播和优化\n",
    "        optimizer.zero_grad()\n",
    "        loss.backward()\n",
    "        optimizer.step()\n",
    "        \n",
    "        if (i+1) % 100 == 0:\n",
    "            print(f'Epoch [{epoch+1}/{num_epochs}], Step [{i+1}/{len(train_loader)}], Loss: {loss.item():.4f}')\n",
    "\n",
    "    \n",
    "    # 测试模型\n",
    "    lenet.eval()\n",
    "    with torch.no_grad():  # 上下文管理器用于关闭梯度计算，因为在评估模型时不需要进行反向传播，这样可以减少内存消耗并加快计算速度\n",
    "        correct = 0\n",
    "        total = 0\n",
    "        for images, labels in test_loader:\n",
    "            images, labels = images.to(device), labels.to(device)\n",
    "            outputs = lenet(images)\n",
    "            _, predicted = torch.max(outputs.data, 1)\n",
    "            total += labels.size(0)\n",
    "            correct += (predicted == labels).sum().item()\n",
    "        \n",
    "        print(f'Accuracy of the network on the 10000 test images: {100 * correct / total}%')\n",
    "\n",
    "print('Finished Training')"
   ],
   "outputs": [
    {
     "name": "stdout",
     "output_type": "stream",
     "text": [
      "Epoch [1/3], Step [100/938], Loss: 1.5561\n",
      "Epoch [1/3], Step [200/938], Loss: 0.4919\n",
      "Epoch [1/3], Step [300/938], Loss: 0.2766\n",
      "Epoch [1/3], Step [400/938], Loss: 0.2240\n",
      "Epoch [1/3], Step [500/938], Loss: 0.2167\n",
      "Epoch [1/3], Step [600/938], Loss: 0.1106\n",
      "Epoch [1/3], Step [700/938], Loss: 0.1570\n",
      "Epoch [1/3], Step [800/938], Loss: 0.1380\n",
      "Epoch [1/3], Step [900/938], Loss: 0.1107\n",
      "Accuracy of the network on the 10000 test images: 95.36%\n",
      "Epoch [2/3], Step [100/938], Loss: 0.2383\n",
      "Epoch [2/3], Step [200/938], Loss: 0.0897\n",
      "Epoch [2/3], Step [300/938], Loss: 0.1071\n",
      "Epoch [2/3], Step [400/938], Loss: 0.1467\n",
      "Epoch [2/3], Step [500/938], Loss: 0.0505\n",
      "Epoch [2/3], Step [600/938], Loss: 0.0951\n",
      "Epoch [2/3], Step [700/938], Loss: 0.1640\n",
      "Epoch [2/3], Step [800/938], Loss: 0.0779\n",
      "Epoch [2/3], Step [900/938], Loss: 0.1673\n",
      "Accuracy of the network on the 10000 test images: 97.22%\n",
      "Epoch [3/3], Step [100/938], Loss: 0.0518\n",
      "Epoch [3/3], Step [200/938], Loss: 0.0440\n",
      "Epoch [3/3], Step [300/938], Loss: 0.0254\n",
      "Epoch [3/3], Step [400/938], Loss: 0.0473\n",
      "Epoch [3/3], Step [500/938], Loss: 0.1940\n",
      "Epoch [3/3], Step [600/938], Loss: 0.0986\n",
      "Epoch [3/3], Step [700/938], Loss: 0.0890\n",
      "Epoch [3/3], Step [800/938], Loss: 0.0916\n",
      "Epoch [3/3], Step [900/938], Loss: 0.0389\n",
      "Accuracy of the network on the 10000 test images: 98.05%\n",
      "Finished Training\n"
     ]
    }
   ],
   "execution_count": 7
  },
  {
   "cell_type": "code",
   "metadata": {
    "ExecuteTime": {
     "end_time": "2024-11-04T01:48:00.789711Z",
     "start_time": "2024-11-04T01:48:00.783426Z"
    }
   },
   "source": [
    "total, correct"
   ],
   "outputs": [
    {
     "data": {
      "text/plain": [
       "(10000, 9805)"
      ]
     },
     "execution_count": 8,
     "metadata": {},
     "output_type": "execute_result"
    }
   ],
   "execution_count": 8
  }
 ],
 "metadata": {
  "kernelspec": {
   "display_name": "ait",
   "language": "python",
   "name": "python3"
  },
  "language_info": {
   "codemirror_mode": {
    "name": "ipython",
    "version": 3
   },
   "file_extension": ".py",
   "mimetype": "text/x-python",
   "name": "python",
   "nbconvert_exporter": "python",
   "pygments_lexer": "ipython3",
   "version": "3.10.14"
  }
 },
 "nbformat": 4,
 "nbformat_minor": 2
}
