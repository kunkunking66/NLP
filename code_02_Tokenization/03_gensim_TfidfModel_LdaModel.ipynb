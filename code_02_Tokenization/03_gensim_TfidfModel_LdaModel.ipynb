{
 "cells": [
  {
   "cell_type": "code",
   "metadata": {
    "ExecuteTime": {
     "end_time": "2024-11-19T06:15:49.039912Z",
     "start_time": "2024-11-19T06:15:48.504478Z"
    }
   },
   "source": [
    "from gensim.test.utils import common_texts\n",
    "from gensim.models import TfidfModel, LdaModel, LsiModel\n",
    "from gensim.corpora import Dictionary"
   ],
   "outputs": [],
   "execution_count": 1
  },
  {
   "cell_type": "markdown",
   "metadata": {},
   "source": [
    "# 一、数据加载"
   ]
  },
  {
   "cell_type": "code",
   "metadata": {
    "ExecuteTime": {
     "end_time": "2024-11-19T06:25:29.760667Z",
     "start_time": "2024-11-19T06:25:29.756738Z"
    }
   },
   "source": [
    "# 构建字典\n",
    "common_dictionary = Dictionary(common_texts)\n",
    "print(\"原始字典:\\n{}\".format(common_dictionary))\n",
    "# 各个文本对应的词袋法的值(doc2bow)\n",
    "common_corpus = [common_dictionary.doc2bow(text) for text in common_texts]\n",
    "print(\"原始数据:\\n{}\".format(common_texts))\n",
    "print(\"\\n词袋法后的值:\\n{}\".format(common_corpus))  # 第一个文本包含三个单词，ID分别为0、1和2的单词各出现一次 共九个文本\n",
    "print(f\"文本数目:{len(common_texts)}\")\n",
    "print(f\"去重后单词数目:{len(common_dictionary)}\")"
   ],
   "outputs": [
    {
     "name": "stdout",
     "output_type": "stream",
     "text": [
      "原始字典:\n",
      "Dictionary<12 unique tokens: ['computer', 'human', 'interface', 'response', 'survey']...>\n",
      "原始数据:\n",
      "[['human', 'interface', 'computer'], ['survey', 'user', 'computer', 'system', 'response', 'time'], ['eps', 'user', 'interface', 'system'], ['system', 'human', 'system', 'eps'], ['user', 'response', 'time'], ['trees'], ['graph', 'trees'], ['graph', 'minors', 'trees'], ['graph', 'minors', 'survey']]\n",
      "\n",
      "词袋法后的值:\n",
      "[[(0, 1), (1, 1), (2, 1)], [(0, 1), (3, 1), (4, 1), (5, 1), (6, 1), (7, 1)], [(2, 1), (5, 1), (7, 1), (8, 1)], [(1, 1), (5, 2), (8, 1)], [(3, 1), (6, 1), (7, 1)], [(9, 1)], [(9, 1), (10, 1)], [(9, 1), (10, 1), (11, 1)], [(4, 1), (10, 1), (11, 1)]]\n",
      "文本数目:9\n",
      "去重后单词数目:12\n"
     ]
    }
   ],
   "execution_count": 7
  },
  {
   "cell_type": "code",
   "metadata": {
    "ExecuteTime": {
     "end_time": "2024-11-19T06:23:52.592076Z",
     "start_time": "2024-11-19T06:23:52.586142Z"
    }
   },
   "source": [
    "other_texts = [\n",
    "    ['computer', 'time', 'graph', 'graph'],  # 文本1\n",
    "    ['survey', 'response', 'eps'],  # 文本2\n",
    "    ['human', 'system', 'computer']  # 文本3\n",
    "]\n",
    "other_corpus = [common_dictionary.doc2bow(text) for text in other_texts]\n",
    "print(\"测试数据对应的词袋法的值:\\n{}\".format(other_corpus))"
   ],
   "outputs": [
    {
     "name": "stdout",
     "output_type": "stream",
     "text": [
      "测试数据对应的词袋法的值:\n",
      "[[(0, 1), (6, 1), (10, 2)], [(3, 1), (4, 1), (8, 1)], [(0, 1), (1, 1), (5, 1)]]\n"
     ]
    }
   ],
   "execution_count": 5
  },
  {
   "cell_type": "markdown",
   "metadata": {},
   "source": [
    "# 二、TF-IDF Model"
   ]
  },
  {
   "cell_type": "code",
   "metadata": {
    "ExecuteTime": {
     "end_time": "2024-11-19T06:23:59.422614Z",
     "start_time": "2024-11-19T06:23:59.416476Z"
    }
   },
   "source": [
    "# 模型构建\n",
    "model = TfidfModel(corpus=common_corpus)"
   ],
   "outputs": [],
   "execution_count": 6
  },
  {
   "cell_type": "code",
   "metadata": {
    "ExecuteTime": {
     "end_time": "2024-11-19T06:28:36.035238Z",
     "start_time": "2024-11-19T06:28:36.032235Z"
    }
   },
   "source": [
    "# 计算Tfidf值\n",
    "vectors = model[other_corpus]\n",
    "for vector in vectors:\n",
    "    print(vector)"
   ],
   "outputs": [
    {
     "name": "stdout",
     "output_type": "stream",
     "text": [
      "[(0, 0.49182558987264147), (6, 0.49182558987264147), (10, 0.7184811607083769)]\n",
      "[(3, 0.5773502691896257), (4, 0.5773502691896257), (8, 0.5773502691896257)]\n",
      "[(0, 0.6282580468670046), (1, 0.6282580468670046), (5, 0.45889394536615247)]\n"
     ]
    }
   ],
   "execution_count": 8
  },
  {
   "cell_type": "markdown",
   "metadata": {},
   "source": [
    "# 三、LDA Model"
   ]
  },
  {
   "cell_type": "code",
   "metadata": {
    "ExecuteTime": {
     "end_time": "2024-11-19T06:30:20.678465Z",
     "start_time": "2024-11-19T06:30:20.664350Z"
    }
   },
   "source": [
    "# 模型构建&训练\n",
    "model = LdaModel(common_corpus, num_topics=4)"
   ],
   "outputs": [],
   "execution_count": 9
  },
  {
   "cell_type": "code",
   "metadata": {
    "ExecuteTime": {
     "end_time": "2024-11-19T06:30:21.699517Z",
     "start_time": "2024-11-19T06:30:21.694392Z"
    }
   },
   "source": [
    "# 模型保存\n",
    "model.save('./datas/lda_model.pkl')"
   ],
   "outputs": [],
   "execution_count": 10
  },
  {
   "cell_type": "code",
   "metadata": {
    "ExecuteTime": {
     "end_time": "2024-11-19T06:30:23.632475Z",
     "start_time": "2024-11-19T06:30:23.624454Z"
    }
   },
   "source": [
    "# 模型加载\n",
    "lda = LdaModel.load('./datas/lda_model.pkl')"
   ],
   "outputs": [],
   "execution_count": 11
  },
  {
   "cell_type": "code",
   "metadata": {
    "ExecuteTime": {
     "end_time": "2024-11-19T06:30:27.931925Z",
     "start_time": "2024-11-19T06:30:27.924388Z"
    }
   },
   "source": [
    "print(lda.print_topics())"
   ],
   "outputs": [
    {
     "name": "stdout",
     "output_type": "stream",
     "text": [
      "[(0, '0.224*\"11\" + 0.223*\"10\" + 0.217*\"9\" + 0.125*\"4\" + 0.027*\"5\" + 0.027*\"7\" + 0.026*\"2\" + 0.026*\"1\" + 0.026*\"3\" + 0.026*\"0\"'), (1, '0.291*\"5\" + 0.202*\"8\" + 0.113*\"7\" + 0.112*\"1\" + 0.112*\"2\" + 0.028*\"9\" + 0.025*\"10\" + 0.024*\"3\" + 0.024*\"0\" + 0.024*\"6\"'), (2, '0.159*\"7\" + 0.159*\"6\" + 0.159*\"3\" + 0.090*\"5\" + 0.090*\"9\" + 0.089*\"4\" + 0.089*\"0\" + 0.089*\"10\" + 0.019*\"2\" + 0.019*\"11\"'), (3, '0.204*\"1\" + 0.203*\"2\" + 0.203*\"0\" + 0.047*\"9\" + 0.044*\"10\" + 0.043*\"7\" + 0.043*\"5\" + 0.043*\"11\" + 0.043*\"3\" + 0.043*\"6\"')]\n"
     ]
    }
   ],
   "execution_count": 12
  },
  {
   "cell_type": "code",
   "execution_count": 11,
   "metadata": {},
   "outputs": [
    {
     "name": "stdout",
     "output_type": "stream",
     "text": [
      "[(0, 0.313532), (1, 0.5485457), (2, 0.064657025), (3, 0.073265254)]\n",
      "[(0, 0.0626659), (1, 0.06871439), (2, 0.5577589), (3, 0.3108608)]\n",
      "[(0, 0.06260544), (1, 0.805602), (2, 0.06913189), (3, 0.062660664)]\n"
     ]
    }
   ],
   "source": [
    "# 模型结果获取(文本向量)\n",
    "vectors = lda[other_corpus]\n",
    "for vector in vectors:\n",
    "    print(vector)"
   ]
  },
  {
   "cell_type": "code",
   "execution_count": 12,
   "metadata": {},
   "outputs": [],
   "source": [
    "# 更新模型（在当前模型基础上继续更新模型参数）\n",
    "lda.update(other_corpus)"
   ]
  },
  {
   "cell_type": "code",
   "execution_count": 13,
   "metadata": {},
   "outputs": [
    {
     "name": "stdout",
     "output_type": "stream",
     "text": [
      "[(0, 0.3148391), (1, 0.5582936), (2, 0.062982015), (3, 0.06388527)]\n",
      "[(0, 0.06256654), (1, 0.063109346), (2, 0.5634132), (3, 0.31091094)]\n",
      "[(0, 0.06255915), (1, 0.81108934), (2, 0.06378226), (3, 0.06256926)]\n"
     ]
    }
   ],
   "source": [
    "# 更新后模型结果获取(文本向量)\n",
    "vectors = lda[other_corpus]\n",
    "for vector in vectors:\n",
    "    print(vector)"
   ]
  },
  {
   "cell_type": "markdown",
   "metadata": {},
   "source": [
    "# 四、Other"
   ]
  },
  {
   "cell_type": "markdown",
   "metadata": {},
   "source": [
    "官网文档：https://radimrehurek.com/gensim/apiref.html"
   ]
  },
  {
   "cell_type": "code",
   "execution_count": 14,
   "metadata": {
    "scrolled": true
   },
   "outputs": [
    {
     "name": "stdout",
     "output_type": "stream",
     "text": [
      "各个单词对应的主题向量:\n",
      "<class 'numpy.ndarray'>\n",
      "(12, 4)\n",
      "[[0.02887763 0.13959666 0.02576802 0.04239996]\n",
      " [0.02940821 0.0773494  0.12395072 0.04310027]\n",
      " [0.02941975 0.1387495  0.02632878 0.04289774]\n",
      " [0.02908398 0.07818598 0.02628603 0.20191553]\n",
      " [0.02891098 0.07813057 0.1232695  0.04290731]\n",
      " [0.02956096 0.14017616 0.22299403 0.04399477]\n",
      " [0.02925362 0.0778763  0.02600799 0.2029333 ]\n",
      " [0.02988685 0.14077409 0.0263424  0.20103562]\n",
      " [0.02891281 0.07781912 0.12405407 0.04242984]\n",
      " [0.35081893 0.01795606 0.02759609 0.04856333]\n",
      " [0.24875954 0.01697309 0.12308007 0.04421122]\n",
      " [0.13710676 0.01641307 0.12432227 0.04361112]]\n"
     ]
    }
   ],
   "source": [
    "print(\"各个单词对应的主题向量:\")\n",
    "word_embedding_tabel = model.get_topics().T\n",
    "print(type(word_embedding_tabel))\n",
    "print(word_embedding_tabel.shape)\n",
    "print(word_embedding_tabel)"
   ]
  },
  {
   "cell_type": "code",
   "execution_count": 15,
   "metadata": {},
   "outputs": [
    {
     "data": {
      "text/plain": [
       "{'computer': 0,\n",
       " 'human': 1,\n",
       " 'interface': 2,\n",
       " 'response': 3,\n",
       " 'survey': 4,\n",
       " 'system': 5,\n",
       " 'time': 6,\n",
       " 'user': 7,\n",
       " 'eps': 8,\n",
       " 'trees': 9,\n",
       " 'graph': 10,\n",
       " 'minors': 11}"
      ]
     },
     "execution_count": 15,
     "metadata": {},
     "output_type": "execute_result"
    }
   ],
   "source": [
    "common_dictionary.token2id"
   ]
  }
 ],
 "metadata": {
  "kernelspec": {
   "display_name": "Python 3 (ipykernel)",
   "language": "python",
   "name": "python3"
  },
  "language_info": {
   "codemirror_mode": {
    "name": "ipython",
    "version": 3
   },
   "file_extension": ".py",
   "mimetype": "text/x-python",
   "name": "python",
   "nbconvert_exporter": "python",
   "pygments_lexer": "ipython3",
   "version": "3.8.20"
  }
 },
 "nbformat": 4,
 "nbformat_minor": 2
}
