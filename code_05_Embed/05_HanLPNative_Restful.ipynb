{
 "cells": [
  {
   "cell_type": "markdown",
   "metadata": {},
   "source": [
    "## import hanlp"
   ]
  },
  {
   "cell_type": "code",
   "execution_count": 1,
   "metadata": {},
   "outputs": [],
   "source": [
    "import hanlp"
   ]
  },
  {
   "cell_type": "markdown",
   "metadata": {},
   "source": [
    "### 多任务学习（MTL）模型\n",
    "\n",
    "hanlp.pretrained.mtl.CLOSE_TOK_POS_NER_SRL_DEP_SDP_CON_ELECTRA_SMALL_ZH是HanLP库中的一个预训练多任务学习（MTL）模型，它基于Electra模型架构，并针对中文语料进行了训练。"
   ]
  },
  {
   "cell_type": "code",
   "execution_count": 3,
   "metadata": {},
   "outputs": [
    {
     "name": "stderr",
     "output_type": "stream",
     "text": [
      "                                   \r"
     ]
    },
    {
     "data": {
      "text/plain": [
       "{'tok/fine': [['2021年',\n",
       "   'HanLPv2.1',\n",
       "   '为',\n",
       "   '生产',\n",
       "   '环境',\n",
       "   '带来',\n",
       "   '次世代',\n",
       "   '最',\n",
       "   '先进',\n",
       "   '的',\n",
       "   '多语种',\n",
       "   'NLP',\n",
       "   '技术',\n",
       "   '。'],\n",
       "  ['阿婆主', '来到', '北京', '立方庭', '参观', '自然', '语义', '科技', '公司', '。']],\n",
       " 'tok/coarse': [['2021年',\n",
       "   'HanLPv2.1',\n",
       "   '为',\n",
       "   '生产',\n",
       "   '环境',\n",
       "   '带来',\n",
       "   '次世代',\n",
       "   '最',\n",
       "   '先进',\n",
       "   '的',\n",
       "   '多语种',\n",
       "   'NLP',\n",
       "   '技术',\n",
       "   '。'],\n",
       "  ['阿婆主', '来到', '北京立方庭', '参观', '自然语义科技公司', '。']],\n",
       " 'pos/ctb': [['NT',\n",
       "   'NR',\n",
       "   'P',\n",
       "   'NN',\n",
       "   'NN',\n",
       "   'VV',\n",
       "   'NN',\n",
       "   'AD',\n",
       "   'VA',\n",
       "   'DEC',\n",
       "   'NN',\n",
       "   'NR',\n",
       "   'NN',\n",
       "   'PU'],\n",
       "  ['NN', 'VV', 'NR', 'NR', 'VV', 'NN', 'NN', 'NN', 'NN', 'PU']],\n",
       " 'pos/pku': [['t',\n",
       "   'nx',\n",
       "   'p',\n",
       "   'vn',\n",
       "   'n',\n",
       "   'v',\n",
       "   'n',\n",
       "   'd',\n",
       "   'a',\n",
       "   'u',\n",
       "   'n',\n",
       "   'nx',\n",
       "   'n',\n",
       "   'w'],\n",
       "  ['n', 'v', 'ns', 'ns', 'v', 'n', 'n', 'n', 'n', 'w']],\n",
       " 'pos/863': [['nt',\n",
       "   'w',\n",
       "   'p',\n",
       "   'v',\n",
       "   'n',\n",
       "   'v',\n",
       "   'nt',\n",
       "   'd',\n",
       "   'a',\n",
       "   'u',\n",
       "   'n',\n",
       "   'w',\n",
       "   'n',\n",
       "   'w'],\n",
       "  ['n', 'v', 'ns', 'ni', 'v', 'a', 'n', 'n', 'n', 'w']],\n",
       " 'ner/msra': [[('2021年', 'DATE', 0, 1), ('次世代', 'DATE', 6, 7)],\n",
       "  [('北京立方庭', 'ORGANIZATION', 2, 4), ('自然语义科技公司', 'ORGANIZATION', 5, 9)]],\n",
       " 'ner/pku': [[], [('北京立方庭', 'nt', 2, 4)]],\n",
       " 'ner/ontonotes': [[('2021年', 'DATE', 0, 1), ('HanLPv2.1', 'PERSON', 1, 2)],\n",
       "  [('北京立方庭', 'FAC', 2, 4), ('自然语义科技公司', 'ORG', 5, 9)]],\n",
       " 'srl': [[[('2021年', 'ARGM-TMP', 0, 1),\n",
       "    ('HanLPv2.1', 'ARG0', 1, 2),\n",
       "    ('为生产环境', 'ARG2', 2, 5),\n",
       "    ('带来', 'PRED', 5, 6),\n",
       "    ('次世代最先进的多语种NLP技术', 'ARG1', 6, 13)],\n",
       "   [('次世代', 'ARGM-TMP', 6, 7),\n",
       "    ('最', 'ARGM-ADV', 7, 8),\n",
       "    ('先进', 'PRED', 8, 9),\n",
       "    ('技术', 'ARG0', 12, 13)]],\n",
       "  [[('阿婆主', 'ARG0', 0, 1), ('来到', 'PRED', 1, 2), ('北京立方庭', 'ARG1', 2, 4)],\n",
       "   [('阿婆主', 'ARG0', 0, 1), ('参观', 'PRED', 4, 5), ('自然语义科技公司', 'ARG1', 5, 9)]]],\n",
       " 'dep': [[(6, 'tmod'),\n",
       "   (6, 'nsubj'),\n",
       "   (6, 'prep'),\n",
       "   (5, 'nn'),\n",
       "   (3, 'pobj'),\n",
       "   (0, 'root'),\n",
       "   (9, 'dep'),\n",
       "   (9, 'advmod'),\n",
       "   (13, 'rcmod'),\n",
       "   (9, 'cpm'),\n",
       "   (13, 'nn'),\n",
       "   (13, 'nn'),\n",
       "   (6, 'dobj'),\n",
       "   (6, 'punct')],\n",
       "  [(2, 'nsubj'),\n",
       "   (0, 'root'),\n",
       "   (4, 'nn'),\n",
       "   (2, 'dobj'),\n",
       "   (2, 'conj'),\n",
       "   (7, 'nn'),\n",
       "   (9, 'nn'),\n",
       "   (9, 'nn'),\n",
       "   (5, 'dobj'),\n",
       "   (2, 'punct')]],\n",
       " 'sdp': [[[(6, 'Time')],\n",
       "   [(6, 'Exp')],\n",
       "   [(5, 'mPrep')],\n",
       "   [(5, 'Desc')],\n",
       "   [(6, 'Datv')],\n",
       "   [(0, 'Root')],\n",
       "   [(9, 'Time')],\n",
       "   [(9, 'mDegr')],\n",
       "   [(13, 'Desc')],\n",
       "   [(9, 'mAux')],\n",
       "   [(13, 'Desc')],\n",
       "   [(13, 'Nmod')],\n",
       "   [(6, 'Pat')],\n",
       "   [(6, 'mPunc')]],\n",
       "  [[(2, 'Agt'), (5, 'Agt')],\n",
       "   [(0, 'Root')],\n",
       "   [(4, 'Nmod')],\n",
       "   [(2, 'Lfin')],\n",
       "   [(2, 'ePurp')],\n",
       "   [(7, 'Nmod')],\n",
       "   [(9, 'Nmod')],\n",
       "   [(9, 'Desc')],\n",
       "   [(5, 'Cont')],\n",
       "   [(5, 'mPunc')]]],\n",
       " 'con': [['TOP', [['IP', [['NP', [['NT', ['2021年']]]], ['NP', [['NR', ['HanLPv2.1']]]], ['VP', [['PP', [['P', ['为']], ['NP', [['NN', ['生产']], ['NN', ['环境']]]]]], ['VP', [['VV', ['带来']], ['NP', [['CP', [['CP', [['IP', [['VP', [['NP', [['NN', ['次世代']]]], ['ADVP', [['AD', ['最']]]], ['VP', [['VA', ['先进']]]]]]]], ['DEC', ['的']]]]]], ['NP', [['NN', ['多语种']]]], ['NP', [['NR', ['NLP']], ['NN', ['技术']]]]]]]]]], ['PU', ['。']]]]]],\n",
       "  ['TOP', [['IP', [['NP', [['NN', ['阿婆主']]]], ['VP', [['VP', [['VV', ['来到']], ['NP', [['NR', ['北京']], ['NR', ['立方庭']]]]]], ['VP', [['VV', ['参观']], ['NP', [['NN', ['自然']], ['NN', ['语义']], ['NN', ['科技']], ['NN', ['公司']]]]]]]], ['PU', ['。']]]]]]]}"
      ]
     },
     "execution_count": 3,
     "metadata": {},
     "output_type": "execute_result"
    }
   ],
   "source": [
    "HanLP = hanlp.load(hanlp.pretrained.mtl.CLOSE_TOK_POS_NER_SRL_DEP_SDP_CON_ELECTRA_SMALL_ZH)  # 世界最大中文语料库\n",
    "doc = HanLP(['2021年HanLPv2.1为生产环境带来次世代最先进的多语种NLP技术。', '阿婆主来到北京立方庭参观自然语义科技公司。'])\n",
    "doc"
   ]
  },
  {
   "cell_type": "markdown",
   "metadata": {},
   "source": [
    "### 中文分词模型"
   ]
  },
  {
   "cell_type": "code",
   "execution_count": 4,
   "metadata": {},
   "outputs": [
    {
     "name": "stderr",
     "output_type": "stream",
     "text": [
      "                                   \r"
     ]
    },
    {
     "name": "stdout",
     "output_type": "stream",
     "text": [
      "[['周星驰', '，', '1962年6月22日', '生于', '香港', '，', '祖籍', '浙江', '宁波'], ['商品', '和', '服务', '。'], ['晓美焰', '来到', '北京立方庭', '参观', '自然语义科技公司'], ['周星驰', '，', '1962年6月22日', '生于', '香港', '，', '祖籍', '浙江', '宁波']]\n"
     ]
    }
   ],
   "source": [
    "from hanlp.components.taggers.transformers.transformer_tagger import TransformerTaggingModel\n",
    "tok = hanlp.load(hanlp.pretrained.tok.COARSE_ELECTRA_SMALL_ZH)\n",
    "# 加载了一个预训练的中文分词模型，COARSE_ELECTRA_SMALL_ZH 是一个基于 ELECTRA-small 的预训练模型，用于粗粒度的分词。\n",
    "tok_doc = tok(['周星驰，1962年6月22日生于香港，祖籍浙江宁波', '商品和服务。', '晓美焰来到北京立方庭参观自然语义科技公司', '周星驰，1962年6月22日生于香港，祖籍浙江宁波'])\n",
    "print(tok_doc)"
   ]
  },
  {
   "cell_type": "markdown",
   "metadata": {},
   "source": [
    "### 词性标柱"
   ]
  },
  {
   "cell_type": "code",
   "execution_count": 5,
   "metadata": {},
   "outputs": [
    {
     "name": "stderr",
     "output_type": "stream",
     "text": [
      "                                   \r"
     ]
    },
    {
     "name": "stdout",
     "output_type": "stream",
     "text": [
      "['PN', 'DEG', 'NN', 'VC', 'VV', 'NN', 'VA']\n",
      "[['NR', 'PU', 'NT', 'VV', 'NR', 'PU', 'NN', 'NR', 'NR'], ['NN', 'CC', 'NN', 'PU'], ['NR', 'VV', 'NR', 'VV', 'NN'], ['NR', 'PU', 'NT', 'VV', 'NR', 'PU', 'NN', 'NR', 'NR']]\n"
     ]
    }
   ],
   "source": [
    "pos = hanlp.load(hanlp.pretrained.pos.CTB9_POS_ELECTRA_SMALL)\n",
    "# 加载一个基于 CTB9 的预训练词性标注模型。\n",
    "pos_doc = pos(['我', '的', '希望', '是', '希望', '世界', '和平'])\n",
    "print(pos_doc)\n",
    "pos_doc = pos(tok_doc)\n",
    "print(pos_doc)"
   ]
  },
  {
   "cell_type": "markdown",
   "metadata": {},
   "source": [
    "### 命名实体识别"
   ]
  },
  {
   "cell_type": "code",
   "execution_count": 6,
   "metadata": {},
   "outputs": [
    {
     "name": "stderr",
     "output_type": "stream",
     "text": [
      "                                   \r"
     ]
    },
    {
     "name": "stdout",
     "output_type": "stream",
     "text": [
      "[[('周星驰', 'PERSON', 0, 1), ('1962年6月22日', 'DATE', 2, 3), ('香港', 'LOCATION', 4, 5), ('浙江', 'LOCATION', 7, 8), ('宁波', 'LOCATION', 8, 9)], [], [('晓美焰', 'PERSON', 0, 1), ('北京立方庭', 'LOCATION', 2, 3), ('自然语义科技公司', 'ORGANIZATION', 4, 5)], [('周星驰', 'PERSON', 0, 1), ('1962年6月22日', 'DATE', 2, 3), ('香港', 'LOCATION', 4, 5), ('浙江', 'LOCATION', 7, 8), ('宁波', 'LOCATION', 8, 9)]]\n"
     ]
    }
   ],
   "source": [
    "ner = hanlp.load(hanlp.pretrained.ner.MSRA_NER_ELECTRA_SMALL_ZH)\n",
    "# 加载一个基于 MSRA 数据集的命名实体识别模型。\n",
    "ner_doc = ner(tok_doc)\n",
    "print(ner_doc)"
   ]
  },
  {
   "cell_type": "code",
   "execution_count": 7,
   "metadata": {},
   "outputs": [
    {
     "name": "stdout",
     "output_type": "stream",
     "text": [
      "[[('晓美焰', 'PERSON', 0, 1), ('北京立方庭', 'LOCATION', 2, 3), ('自然语义科技公司', 'ORGANIZATION', 4, 7)]]\n"
     ]
    }
   ],
   "source": [
    "ner_doc = ner([['晓美焰', '来到', '北京立方庭', '参观', '自然语义', '科技', '公司']])\n",
    "print(ner_doc)"
   ]
  },
  {
   "cell_type": "markdown",
   "metadata": {},
   "source": [
    "## HanLPClient\n",
    "\n",
    "官网： https://hanlp.com/semantics/dashboard/index"
   ]
  },
  {
   "cell_type": "code",
   "execution_count": null,
   "metadata": {},
   "outputs": [],
   "source": [
    "from hanlp_restful import HanLPClient\n",
    "# pip install hanlp-restful\n",
    "\n",
    "HanLP = HanLPClient('https://www.hanlp.com/api', auth=None, language='zh')  # auth不填则匿名，zh中文，mul多语种\n",
    "\n",
    "doc = HanLP.parse(\"2021年HanLPv2.1为生产环境带来次世代最先进的多语种NLP技术。阿婆主来到北京立方庭参观自然语义科技公司。\")\n",
    "print(doc)"
   ]
  },
  {
   "cell_type": "markdown",
   "metadata": {},
   "source": [
    "## 结果参数说明"
   ]
  },
  {
   "cell_type": "code",
   "execution_count": 5,
   "metadata": {},
   "outputs": [
    {
     "data": {
      "text/plain": [
       "dict_keys(['tok/fine', 'tok/coarse', 'pos/ctb', 'pos/pku', 'pos/863', 'ner/msra', 'ner/pku', 'ner/ontonotes', 'srl', 'dep', 'sdp', 'con'])"
      ]
     },
     "execution_count": 5,
     "metadata": {},
     "output_type": "execute_result"
    }
   ],
   "source": [
    "doc.keys()"
   ]
  },
  {
   "cell_type": "markdown",
   "metadata": {},
   "source": [
    "| Key    | 说明                                         |\n",
    "|--------|----------------------------------------------|\n",
    "| tok/fine | 细粒度分词，将文本分割成更小的单元，如词语、短语等 |\n",
    "| tok/coarse | 粗粒度分词，将文本分割成较大的单元，如句子或段落 |\n",
    "| pos/ctb | 词性标注，使用中文树库（CTB）的词性标注体系       |\n",
    "| pos/pku | 词性标注，使用北京大学（PKU）的词性标注体系       |\n",
    "| pos/863 | 词性标注，使用国家高技术研究发展计划（863计划）的词性标注体系 |\n",
    "| ner/msra | 命名实体识别，使用微软亚洲研究院（MSRA）的命名实体识别模型 |\n",
    "| ner/pku | 命名实体识别，使用北京大学（PKU）的命名实体识别模型 |\n",
    "| ner/ontonotes | 命名实体识别，使用OntoNotes项目的命名实体识别模型 |\n",
    "| srl    | 语义角色标注，用于识别句子中的动作和它们的角色   |\n",
    "| dep    | 依存句法分析，分析句子中词与词之间的依存关系     |\n",
    "| sdp    | 语义依存分析，分析句子中词与词之间的语义依存关系 |\n",
    "| con    | 共指消解，用于识别文本中指代相同实体的不同表达   |"
   ]
  },
  {
   "cell_type": "code",
   "execution_count": null,
   "metadata": {},
   "outputs": [],
   "source": []
  },
  {
   "cell_type": "code",
   "execution_count": null,
   "metadata": {},
   "outputs": [],
   "source": []
  }
 ],
 "metadata": {
  "kernelspec": {
   "display_name": "ait",
   "language": "python",
   "name": "python3"
  },
  "language_info": {
   "codemirror_mode": {
    "name": "ipython",
    "version": 3
   },
   "file_extension": ".py",
   "mimetype": "text/x-python",
   "name": "python",
   "nbconvert_exporter": "python",
   "pygments_lexer": "ipython3",
   "version": "3.8.20"
  }
 },
 "nbformat": 4,
 "nbformat_minor": 2
}
