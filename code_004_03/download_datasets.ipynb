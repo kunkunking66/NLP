{
 "cells": [
  {
   "cell_type": "code",
   "execution_count": 7,
   "metadata": {},
   "outputs": [],
   "source": [
    "import os                   \n",
    "import numpy as np          \n",
    "import matplotlib.pyplot as plt \n",
    "\n",
    "import torch\n",
    "from torchvision import datasets, transforms \n",
    "from torch.utils.data import DataLoader      "
   ]
  },
  {
   "cell_type": "code",
   "execution_count": 3,
   "metadata": {},
   "outputs": [],
   "source": [
    "import torch\n",
    "from torchvision import datasets, transforms\n",
    "\n",
    "train_data = datasets.FashionMNIST(root='./datas', train=True, transform=transforms.ToTensor(), download=True)\n",
    "test_data = datasets.FashionMNIST(root='./datas', train=False, transform=transforms.ToTensor(), download=True)"
   ]
  },
  {
   "cell_type": "code",
   "execution_count": 4,
   "metadata": {},
   "outputs": [
    {
     "name": "stdout",
     "output_type": "stream",
     "text": [
      "<class 'torchvision.datasets.mnist.FashionMNIST'>\n"
     ]
    }
   ],
   "source": [
    "print(type(train_data)) "
   ]
  },
  {
   "cell_type": "code",
   "execution_count": 8,
   "metadata": {},
   "outputs": [
    {
     "name": "stdout",
     "output_type": "stream",
     "text": [
      "<class 'torch.utils.data.dataloader.DataLoader'>\n"
     ]
    }
   ],
   "source": [
    "data_loader = DataLoader(train_data, batch_size=4) \n",
    "print(type(data_loader))   "
   ]
  },
  {
   "cell_type": "code",
   "execution_count": 10,
   "metadata": {},
   "outputs": [
    {
     "data": {
      "text/plain": [
       "15000"
      ]
     },
     "execution_count": 10,
     "metadata": {},
     "output_type": "execute_result"
    }
   ],
   "source": [
    "len(data_loader)"
   ]
  },
  {
   "cell_type": "code",
   "execution_count": 22,
   "metadata": {},
   "outputs": [
    {
     "name": "stdout",
     "output_type": "stream",
     "text": [
      "torch.Size([4, 1, 28, 28]) torch.Size([4])\n"
     ]
    }
   ],
   "source": [
    "k = 0\n",
    "\n",
    "for batch_img, batch_label in data_loader:\n",
    "\n",
    "    # 解包batch_img的形状[n, c, h, w]\n",
    "    n, c, h, w = batch_img.shape\n",
    "    \n",
    "    for i in range(n):\n",
    "        # 获取第i个图像，并将其转换为NumPy数组\n",
    "        img = batch_img[i].detach().numpy()  # [c, h, w]\n",
    "        gray_img = (img[0] * 256).astype(np.uint8)\n",
    "        label = batch_label[i].item()  # 标量值\n",
    "        \n",
    "        # 构造输出文件路径\n",
    "        output_path = f'./datas/FashionMNIST/images/{label}/{k}.png'\n",
    "        \n",
    "        # 如果目标目录不存在，则创建目录\n",
    "        if not os.path.exists(os.path.dirname(output_path)):\n",
    "            os.makedirs(os.path.dirname(output_path))\n",
    "        \n",
    "        plt.imsave(output_path, gray_img)\n",
    "        # plt.imsave(output_path, gray_img, cmap='gray')\n",
    "        \n",
    "        k += 1\n",
    "        \n",
    "    # 当计数器超过200时，停止循环\n",
    "    if k > 200:\n",
    "        print(batch_img.shape, batch_label.shape) \n",
    "        break"
   ]
  }
 ],
 "metadata": {
  "kernelspec": {
   "display_name": "ait",
   "language": "python",
   "name": "python3"
  },
  "language_info": {
   "codemirror_mode": {
    "name": "ipython",
    "version": 3
   },
   "file_extension": ".py",
   "mimetype": "text/x-python",
   "name": "python",
   "nbconvert_exporter": "python",
   "pygments_lexer": "ipython3",
   "version": "3.10.14"
  }
 },
 "nbformat": 4,
 "nbformat_minor": 2
}
